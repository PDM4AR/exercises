{
 "cells": [
  {
   "cell_type": "markdown",
   "metadata": {},
   "source": [
    "# Pose representation and operations tutorial\n"
   ]
  },
  {
   "cell_type": "markdown",
   "metadata": {},
   "source": [
    "## Packages\n",
    "\n",
    "We will use the `geometry` library to do operations with coordinate frames,\n",
    "and the Numpy library. We will abbreviate them as `g` and `np`, respectively.\n"
   ]
  },
  {
   "cell_type": "code",
   "execution_count": 1,
   "metadata": {
    "pycharm": {
     "is_executing": true
    }
   },
   "outputs": [
    {
     "name": "stderr",
     "output_type": "stream",
     "text": [
      "DEBUG:commons:version: 6.2.4 *\n",
      "DEBUG:typing:version: 6.2.3\n",
      "DEBUG:geometry:PyGeometry-z6 version 2.1.4 path /opt/conda/lib/python3.9/site-packages\n"
     ]
    }
   ],
   "source": [
    "from math import cos, sin, pi\n",
    "from typing import Tuple\n",
    "\n",
    "import geometry as g\n",
    "import numpy as np"
   ]
  },
  {
   "cell_type": "markdown",
   "metadata": {},
   "source": [
    "# Angles\n",
    "\n",
    "In code, angles are *always* represented in radians.\n",
    "\n",
    "The only place where degrees might be acceptable is in configuration files\n",
    "that need to be edited by users.\n",
    "\n",
    "Use the functions `np.deg2rad` and `np.rad2deg` to convert back and forth."
   ]
  },
  {
   "cell_type": "code",
   "execution_count": 2,
   "metadata": {
    "pycharm": {
     "is_executing": true
    }
   },
   "outputs": [],
   "source": [
    "from matplotlib import pyplot as plt\n",
    "\n",
    "assert np.allclose(np.deg2rad(60), np.pi/3)\n",
    "assert np.allclose(np.rad2deg(np.pi/3), 60)"
   ]
  },
  {
   "cell_type": "markdown",
   "metadata": {
    "collapsed": true
   },
   "source": [
    "The function `np.allclose` allows to compare two numbers allowing some tolerance to \n",
    "tolerate numerical errors."
   ]
  },
  {
   "cell_type": "markdown",
   "metadata": {},
   "source": [
    "## Pose representations\n",
    "\n",
    "To create a pose from translation, angle (in radians), use the function `SE2_from_translation_angle(translation, angle)`:\n"
   ]
  },
  {
   "cell_type": "code",
   "execution_count": 3,
   "metadata": {
    "pycharm": {
     "is_executing": true
    }
   },
   "outputs": [],
   "source": [
    "translation = [0, 1]\n",
    "angle = np.pi/3\n",
    "q = g.SE2_from_translation_angle(translation, angle)"
   ]
  },
  {
   "cell_type": "markdown",
   "metadata": {},
   "source": [
    "This returns a 3 by 3 matrix:"
   ]
  },
  {
   "cell_type": "code",
   "execution_count": 4,
   "metadata": {
    "pycharm": {
     "is_executing": true
    }
   },
   "outputs": [
    {
     "name": "stdout",
     "output_type": "stream",
     "text": [
      "[[ 0.5       -0.8660254  0.       ]\n",
      " [ 0.8660254  0.5        1.       ]\n",
      " [ 0.         0.         1.       ]]\n"
     ]
    }
   ],
   "source": [
    "print(q)"
   ]
  },
  {
   "cell_type": "markdown",
   "metadata": {},
   "source": [
    "Use the function `g.SE2.friendly()` to print a nice representation of the matrix:\n"
   ]
  },
  {
   "cell_type": "code",
   "execution_count": 5,
   "metadata": {
    "pycharm": {
     "is_executing": true
    }
   },
   "outputs": [
    {
     "name": "stdout",
     "output_type": "stream",
     "text": [
      "Pose(Rot(60.0deg),[0. 1.])\n"
     ]
    }
   ],
   "source": [
    "print(g.SE2.friendly(q))"
   ]
  },
  {
   "cell_type": "markdown",
   "metadata": {},
   "source": [
    "To convert back to position, angle use the function `translation_angle_from_SE2`\n"
   ]
  },
  {
   "cell_type": "code",
   "execution_count": 6,
   "metadata": {
    "pycharm": {
     "is_executing": true
    }
   },
   "outputs": [
    {
     "name": "stdout",
     "output_type": "stream",
     "text": [
      "[0. 1.]\n",
      "1.0471975511965976\n"
     ]
    }
   ],
   "source": [
    "position, direction = g.translation_angle_from_SE2(q)\n",
    "print(position)\n",
    "print(direction)"
   ]
  },
  {
   "cell_type": "markdown",
   "metadata": {},
   "source": [
    "## Operations on poses\n",
    "\n",
    "The object `geometry.SE2` is a representation of the group SE(2).\n",
    "\n",
    "It provides the operations `multiply`, `identity`, and `inverse`:\n"
   ]
  },
  {
   "cell_type": "code",
   "execution_count": 7,
   "metadata": {
    "pycharm": {
     "is_executing": true
    }
   },
   "outputs": [],
   "source": [
    "q1 = g.SE2_from_translation_angle([1, 2], np.deg2rad(15))\n",
    "q2 = g.SE2_from_translation_angle([2, 3], np.deg2rad(30))\n",
    "\n",
    "# let's compute the relative pose of q2 wrt q1\n",
    "q2_from_q1 = g.SE2.multiply(g.SE2.inverse(q1), q2)\n",
    "\n",
    "# now let's re-find q2 by adding the relative pose to q1\n",
    "q2b = g.SE2.multiply(q1, q2_from_q1)\n",
    "\n",
    "# this must be equal to q2\n",
    "assert np.allclose(q2, q2b)"
   ]
  },
  {
   "cell_type": "markdown",
   "metadata": {},
   "source": [
    "Note that for SE(2) the operations `inverse` and `multiply` correspond to the numpy operations of\n",
    "matrix inversion `np.linalg.inv` and matrix multiplication `np.dot()` (do not confuse with `np.multiply()` which multiplies element-wise) or using the operator `@`."
   ]
  },
  {
   "cell_type": "markdown",
   "metadata": {
    "collapsed": true
   },
   "source": [
    "## Interpolation of poses\n",
    "\n",
    "Suppose you want to interpolate between two poses. This is the right way to do it.\n",
    "\n",
    "First, compute the relative pose:\n"
   ]
  },
  {
   "cell_type": "code",
   "execution_count": 8,
   "metadata": {
    "pycharm": {
     "is_executing": true
    }
   },
   "outputs": [
    {
     "name": "stdout",
     "output_type": "stream",
     "text": [
      "[[ 0.96592583 -0.25881905  1.22474487]\n",
      " [ 0.25881905  0.96592583  0.70710678]\n",
      " [ 0.          0.          1.        ]]\n"
     ]
    }
   ],
   "source": [
    "q2_from_q1 = g.SE2.multiply( g.SE2.inverse(q1), q2)\n",
    "print(q2_from_q1)"
   ]
  },
  {
   "cell_type": "markdown",
   "metadata": {},
   "source": [
    "Now compute the equivalent \"velocity\". \n",
    "\n",
    "The function `algebra_from_group` computes\n",
    "the element of the algebra of SE(2); that is, *skew symmetric matrices* that \n",
    "represent velocities:"
   ]
  },
  {
   "cell_type": "code",
   "execution_count": 9,
   "metadata": {
    "pycharm": {
     "is_executing": true
    }
   },
   "outputs": [],
   "source": [
    "vel = g.SE2.algebra_from_group(q2_from_q1)"
   ]
  },
  {
   "cell_type": "markdown",
   "metadata": {},
   "source": [
    "The set of velocities on $SE(2)$ is called the *lie algebra* $se(2)$.\n",
    "It is represented by the object `se2`:"
   ]
  },
  {
   "cell_type": "code",
   "execution_count": 10,
   "metadata": {
    "pycharm": {
     "is_executing": true
    }
   },
   "outputs": [
    {
     "name": "stdout",
     "output_type": "stream",
     "text": [
      "[[ 0.         -0.26179939  1.3103017 ]\n",
      " [ 0.26179939  0.          0.54274474]\n",
      " [ 0.          0.          0.        ]]\n"
     ]
    }
   ],
   "source": [
    "g.se2.belongs(vel)\n",
    "print(g.se2.friendly(vel))"
   ]
  },
  {
   "cell_type": "markdown",
   "metadata": {},
   "source": [
    "The velocity can be converted to angular, linear components:"
   ]
  },
  {
   "cell_type": "code",
   "execution_count": 11,
   "metadata": {
    "pycharm": {
     "is_executing": true
    }
   },
   "outputs": [
    {
     "name": "stdout",
     "output_type": "stream",
     "text": [
      "linear: [1.3103017  0.54274474]\n",
      "angular: 0.26179938779914946\n"
     ]
    }
   ],
   "source": [
    "linear, angular = g.linear_angular_from_se2(vel)\n",
    "print('linear: {}'.format(linear))\n",
    "print('angular: {}'.format(angular))"
   ]
  },
  {
   "cell_type": "markdown",
   "metadata": {},
   "source": [
    "Now, suppose that you want to interpolate smoothly according to a parameter `alpha`,\n",
    "such that `alpha = 0` gives `q1` and `alpha = 1` gives `q2`.\n",
    "\n",
    "You can do that by interpolating linearly in the velocity space:"
   ]
  },
  {
   "cell_type": "code",
   "execution_count": 12,
   "metadata": {
    "pycharm": {
     "is_executing": true
    }
   },
   "outputs": [
    {
     "name": "stdout",
     "output_type": "stream",
     "text": [
      "Pose(Rot(22.5deg),[1.53277173 2.46722827])\n"
     ]
    }
   ],
   "source": [
    "alpha = 0.5\n",
    "rel = g.SE2.group_from_algebra(vel * alpha)\n",
    "q_alpha = g.SE2.multiply( q1, rel)\n",
    "print(g.SE2.friendly(q_alpha))"
   ]
  },
  {
   "cell_type": "code",
   "execution_count": 13,
   "metadata": {
    "pycharm": {
     "is_executing": true
    }
   },
   "outputs": [],
   "source": [
    "def relative_pose(q0, q1):\n",
    "    return g.SE2.multiply(g.SE2.inverse(q0), q1)\n",
    "\n",
    "def interpolate(q0, q1, alpha):\n",
    "    q1_from_q0 = relative_pose(q0, q1)\n",
    "    vel = g.SE2.algebra_from_group(q1_from_q0)\n",
    "    rel = g.SE2.group_from_algebra(vel * alpha)\n",
    "    q = g.SE2.multiply(q0, rel)\n",
    "    return q\n",
    "\n",
    "# sample two poses\n",
    "q0 = g.SE2.sample_uniform()\n",
    "q1 = g.SE2.sample_uniform()\n",
    "\n",
    "# make sure that for alpha=0,1 we get q0,q1\n",
    "assert np.allclose(q0, interpolate(q0, q1, 0))\n",
    "assert np.allclose(q1, interpolate(q0, q1, 1))\n",
    "\n"
   ]
  },
  {
   "cell_type": "markdown",
   "metadata": {},
   "source": [
    "Let's visualize the result"
   ]
  },
  {
   "cell_type": "code",
   "execution_count": 14,
   "metadata": {
    "pycharm": {
     "name": "#%%\n"
    }
   },
   "outputs": [],
   "source": [
    "def arrow_from_SE2(p: g.SE2value, l: float = .1) -> Tuple[Tuple[float, float], Tuple[float, float]]:\n",
    "    # utility function for plotting arrows from SE2 elements\n",
    "    xytheta = g.xytheta_from_SE2(p)\n",
    "    x, y, theta = xytheta\n",
    "    dx = cos(theta) * l\n",
    "    dy = sin(theta) * l\n",
    "    return (x, y), (dx, dy)"
   ]
  },
  {
   "cell_type": "code",
   "execution_count": 15,
   "metadata": {
    "pycharm": {
     "name": "#%%\n"
    }
   },
   "outputs": [
    {
     "data": {
      "image/png": "[encoded data removed]",
      "text/plain": [
       "<Figure size 432x288 with 1 Axes>"
      ]
     },
     "metadata": {
      "needs_background": "light"
     },
     "output_type": "display_data"
    }
   ],
   "source": [
    "q0 = g.SE2_from_xytheta([1, 0, pi / 2])\n",
    "q1 = g.SE2_from_xytheta([-1, 1, 3*pi / 2 - .0006])\n",
    "\n",
    "\n",
    "alphas = np.linspace(0, 1, 10)\n",
    "ax = plt.axes()\n",
    "ax.set_aspect('equal')\n",
    "for alpha in alphas:\n",
    "    q = interpolate(q0, q1, alpha)\n",
    "    xy, dxdy = arrow_from_SE2(q)\n",
    "    ax.arrow(*xy, *dxdy, head_width=0.03, head_length=0.03, fc='k', ec='k')\n",
    "plt.show()"
   ]
  },
  {
   "cell_type": "markdown",
   "source": [
    "## Exercise 1\n",
    "Compare the interpolation above with one done component-wise (i.e. linearly interpolate x,y,theta)"
   ],
   "metadata": {
    "collapsed": false
   }
  },
  {
   "cell_type": "code",
   "execution_count": null,
   "outputs": [],
   "source": [],
   "metadata": {
    "collapsed": false,
    "pycharm": {
     "name": "#%%\n"
    }
   }
  },
  {
   "cell_type": "markdown",
   "metadata": {},
   "source": [
    "## Exercise 2\n",
    "\n",
    "We stand back to back.\n",
    "\n",
    "I walk 3 meters forward; I rotate 20 deg to my right; I walk 7 meters forward.\n",
    "\n",
    "You walk 2 meters forward, you rotate 30 deg to your left, you go 6 meters forward.\n",
    "\n",
    "What is the distance between us?\n",
    "\n",
    "At what angle I see you on my field of view? (0=front, pi/2 = left, -pi/2 = right, -pi=pi back) "
   ]
  },
  {
   "cell_type": "code",
   "execution_count": null,
   "metadata": {
    "pycharm": {
     "is_executing": true
    }
   },
   "outputs": [],
   "source": []
  },
  {
   "cell_type": "code",
   "execution_count": null,
   "metadata": {
    "pycharm": {
     "is_executing": true
    }
   },
   "outputs": [],
   "source": []
  }
 ],
 "metadata": {
  "celltoolbar": "Raw Cell Format",
  "kernelspec": {
   "display_name": "Python 3 (ipykernel)",
   "language": "python",
   "name": "python3"
  },
  "language_info": {
   "codemirror_mode": {
    "name": "ipython",
    "version": 3
   },
   "file_extension": ".py",
   "mimetype": "text/x-python",
   "name": "python",
   "nbconvert_exporter": "python",
   "pygments_lexer": "ipython3",
   "version": "3.9.7"
  }
 },
 "nbformat": 4,
 "nbformat_minor": 2
}