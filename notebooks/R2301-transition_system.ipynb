{
 "cells": [
  {
   "cell_type": "markdown",
   "metadata": {},
   "source": [
    "# Transition system\n",
    "\n",
    "Let's warm-up by coding a simple transition system in python.\n",
    "We begin by thinking about it in abstract terms: \"What is a transition system?\"\n",
    "\n",
    "We can express this in python by defining a generic interface.\n",
    "_Note_: clearly this is not the only way, the beauty of programming"
   ]
  },
  {
   "cell_type": "code",
   "execution_count": null,
   "metadata": {
    "ExecuteTime": {
     "end_time": "2023-09-20T08:47:09.175882181Z",
     "start_time": "2023-09-20T08:47:09.166197063Z"
    }
   },
   "outputs": [],
   "source": [
    "from abc import abstractmethod, ABC\n",
    "from math import inf\n",
    "from typing import TypeVar, Generic\n",
    "\n",
    "X = TypeVar(\"X\")\n",
    "\"\"\"Generic type for the state\"\"\"\n",
    "U = TypeVar(\"U\")\n",
    "\"\"\"Generic type for the input\"\"\"\n",
    "\n",
    "\n",
    "class TransitionSystem(Generic[X, U], ABC):\n",
    "\n",
    "    @abstractmethod\n",
    "    def transition(self, x: X, u: U) -> X:\n",
    "        pass\n"
   ]
  },
  {
   "cell_type": "markdown",
   "metadata": {},
   "source": [
    "## Crossing an intersection\n",
    "\n",
    "Let us consider the most high-level transition system possible to cross an intersection.\n",
    "\n",
    "\n",
    "* What is a possible choice of state space? action space? transition system?\n",
    "\n",
    "_Note_: learn to decouple particular implementation choices (e.g., here the state expressed as an `Enum`) from the more abstract interfaces of the system (e.g., transition as a map from state/action to a new state)\n"
   ]
  },
  {
   "cell_type": "code",
   "execution_count": null,
   "metadata": {
    "ExecuteTime": {
     "end_time": "2023-09-20T08:47:09.203435245Z",
     "start_time": "2023-09-20T08:47:09.170182953Z"
    },
    "pycharm": {
     "name": "#%%`\n"
    }
   },
   "outputs": [],
   "source": [
    "from enum import unique, IntEnum\n",
    "\n",
    "\n",
    "@unique\n",
    "class IntState(IntEnum):\n",
    "    BEFORE = -1\n",
    "    IN = 0\n",
    "    AFTER = 1\n",
    "\n",
    "\n",
    "@unique\n",
    "class IntAction(IntEnum):\n",
    "    WAIT = 0\n",
    "    GO = 1\n",
    "\n",
    "\n",
    "class IntersectionTS(TransitionSystem[IntState, IntAction]):\n",
    "\n",
    "    def transition(self, x: IntState, a: IntAction) -> IntState:\n",
    "        return IntState(min(x + a, IntState.AFTER))\n",
    "\n",
    "\n",
    "int_ts = IntersectionTS()\n"
   ]
  },
  {
   "cell_type": "markdown",
   "metadata": {},
   "source": [
    "## Costs\n",
    "\n",
    "Let us define a **cost** for the transition system. \n",
    "What is a cost?\n"
   ]
  },
  {
   "cell_type": "code",
   "execution_count": null,
   "metadata": {
    "ExecuteTime": {
     "end_time": "2023-09-20T08:47:09.232658540Z",
     "start_time": "2023-09-20T08:47:09.227473476Z"
    }
   },
   "outputs": [],
   "source": [
    "class IncrementalCost(Generic[X, U], ABC):\n",
    "\n",
    "    @abstractmethod\n",
    "    def cost(self, x: X, a: U, x_new: X) -> float:\n",
    "        pass\n"
   ]
  },
  {
   "cell_type": "markdown",
   "metadata": {},
   "source": [
    "We want to favor plans that take **less time** "
   ]
  },
  {
   "cell_type": "code",
   "execution_count": null,
   "metadata": {
    "ExecuteTime": {
     "end_time": "2023-09-20T08:47:09.233031224Z",
     "start_time": "2023-09-20T08:47:09.227716153Z"
    }
   },
   "outputs": [],
   "source": [
    "class IntersectionCost(IncrementalCost[IntState, IntAction]):\n",
    "    def cost(self, x: IntState, a: IntAction, x_new: IntState) -> float:\n",
    "        return 1 - int(a)\n",
    "\n",
    "\n",
    "int_cost = IntersectionCost()"
   ]
  },
  {
   "cell_type": "markdown",
   "metadata": {},
   "source": [
    "## Planning (without knowing yet how to...)\n",
    "\n",
    "Now let's find the path with the least cost by checking them all, at random"
   ]
  },
  {
   "cell_type": "code",
   "execution_count": null,
   "metadata": {
    "ExecuteTime": {
     "end_time": "2023-09-20T08:47:09.233220348Z",
     "start_time": "2023-09-20T08:47:09.227819825Z"
    }
   },
   "outputs": [],
   "source": [
    "from dataclasses import dataclass\n",
    "from random import choice\n",
    "from typing import Sequence, AbstractSet, Optional\n",
    "\n",
    "\n",
    "@dataclass(frozen=True)\n",
    "class PlannerParams:\n",
    "    max_search_length: int = 4\n",
    "    max_attempts: int = 3\n",
    "\n",
    "\n",
    "class PlannerTransitionSystem(Generic[X, U]):\n",
    "    def __init__(self, *,\n",
    "                 x0: X,\n",
    "                 goal: X,\n",
    "                 actionset: AbstractSet[U],\n",
    "                 ts: TransitionSystem,\n",
    "                 cost: IncrementalCost,\n",
    "                 params: PlannerParams = PlannerParams()):\n",
    "        self.x0 = x0\n",
    "        self.goal = goal\n",
    "        self.actionset: Sequence[U] = tuple(actionset)\n",
    "        self.ts = ts\n",
    "        self.cost = cost\n",
    "        self.p = params\n",
    "\n",
    "    def solve(self) -> tuple[float, Sequence[tuple[X, Optional[U]]]]:\n",
    "        best_path: Sequence[tuple[X, Optional[U]]] = []\n",
    "        best_cost: float = inf\n",
    "\n",
    "        for _ in range(self.p.max_attempts):\n",
    "            path = []\n",
    "            cost = 0\n",
    "            x = self.x0\n",
    "            max_search_length = self.p.max_search_length\n",
    "            while x != self.goal and max_search_length > 0:\n",
    "                action = choice(self.actionset)\n",
    "                path.append((x, action))\n",
    "\n",
    "                x_new = self.ts.transition(x, action)\n",
    "                cost += self.cost.cost(x, action, x_new)\n",
    "\n",
    "                x = x_new\n",
    "                max_search_length -= 1\n",
    "            path.append((x, None))\n",
    "\n",
    "            if x == self.goal and cost < best_cost:\n",
    "                best_path = path\n",
    "                best_cost = cost\n",
    "        return best_cost, best_path\n"
   ]
  },
  {
   "cell_type": "markdown",
   "metadata": {},
   "source": [
    "Let's see if it can find a solution for the intersection problem..."
   ]
  },
  {
   "cell_type": "code",
   "execution_count": null,
   "metadata": {
    "ExecuteTime": {
     "end_time": "2023-09-20T08:47:09.236026543Z",
     "start_time": "2023-09-20T08:47:09.227929211Z"
    }
   },
   "outputs": [],
   "source": [
    "\n",
    "int_planning_problem = PlannerTransitionSystem(\n",
    "        x0=IntState.BEFORE,\n",
    "        goal=IntState.AFTER,\n",
    "        actionset=frozenset([IntAction.GO, IntAction.WAIT]),\n",
    "        ts=int_ts,\n",
    "        cost=int_cost)\n",
    "\n",
    "int_planning_problem.solve()"
   ]
  },
  {
   "cell_type": "markdown",
   "metadata": {},
   "source": [
    "## Controlling more than 1 agent\n",
    "\n",
    "Imagine now you can control n>1 robots at the intersection, how would we modify the transition system above?\n",
    "\n",
    "* What is the state? What are the actions?\n",
    "* Do we have new costs or constraints?"
   ]
  }
 ],
 "metadata": {
  "kernelspec": {
   "display_name": "Python 3 (ipykernel)",
   "language": "python",
   "name": "python3"
  },
  "language_info": {
   "codemirror_mode": {
    "name": "ipython",
    "version": 3
   },
   "file_extension": ".py",
   "mimetype": "text/x-python",
   "name": "python",
   "nbconvert_exporter": "python",
   "pygments_lexer": "ipython3",
   "version": "3.11.4"
  }
 },
 "nbformat": 4,
 "nbformat_minor": 1
}
